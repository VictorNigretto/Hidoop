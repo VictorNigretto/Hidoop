{
  "nbformat": 4,
  "nbformat_minor": 0,
  "metadata": {
    "colab": {
      "name": "APP Etape 2",
      "provenance": [],
      "toc_visible": true,
      "authorship_tag": "ABX9TyMBaXBGW1g0Lcgf1oNG71Y9",
      "include_colab_link": true
    },
    "kernelspec": {
      "name": "python3",
      "display_name": "Python 3"
    }
  },
  "cells": [
    {
      "cell_type": "markdown",
      "metadata": {
        "id": "view-in-github",
        "colab_type": "text"
      },
      "source": [
        "<a href=\"https://colab.research.google.com/github/VictorNigretto/Hidoop/blob/master/APP_Etape_2.ipynb\" target=\"_parent\"><img src=\"https://colab.research.google.com/assets/colab-badge.svg\" alt=\"Open In Colab\"/></a>"
      ]
    },
    {
      "cell_type": "code",
      "metadata": {
        "id": "nPrvutFyzGQy"
      },
      "source": [
        "import os\r\n",
        "import shutil\r\n",
        "from tensorflow.python.client import device_lib\r\n",
        "import keras\r\n",
        "from keras import layers, models, optimizers\r\n",
        "from keras.layers.convolutional import Conv2D, MaxPooling2D\r\n",
        "from keras.layers import Dense, Flatten, Dropout, Input\r\n",
        "from keras.applications.vgg16 import VGG16, preprocess_input\r\n",
        "from keras.preprocessing import image\r\n",
        "from keras.models import Model\r\n",
        "import pandas as pd\r\n",
        "import tensorflow as tf\r\n",
        "import numpy as np\r\n",
        "from keras.preprocessing.image import load_img\r\n",
        "from PIL import Image\r\n",
        "\r\n",
        "import matplotlib.pyplot as plt"
      ],
      "execution_count": 2,
      "outputs": []
    },
    {
      "cell_type": "code",
      "metadata": {
        "colab": {
          "base_uri": "https://localhost:8080/"
        },
        "id": "tY-eAP0O0O12",
        "outputId": "abb76716-9c79-4edf-e100-66a29e59f89e"
      },
      "source": [
        "# Dataset personnes\r\n",
        "!git clone https://gitlab.enseeiht.fr/aandre2/Dataset_Market-1501-v15.09.15\r\n",
        "\r\n",
        "# Dataset pokemons\r\n",
        "!git clone https://gitlab.enseeiht.fr/nurbani/dataset-pokemon\r\n"
      ],
      "execution_count": 6,
      "outputs": [
        {
          "output_type": "stream",
          "text": [
            "Cloning into 'Dataset_Market-1501-v15.09.15'...\n",
            "warning: redirecting to https://gitlab.enseeiht.fr/aandre2/Dataset_Market-1501-v15.09.15.git/\n",
            "remote: Counting objects: 77323, done.\u001b[K\n",
            "remote: Compressing objects: 100% (70371/70371), done.\u001b[K\n",
            "remote: Total 77323 (delta 6952), reused 77323 (delta 6952)\u001b[K\n",
            "Receiving objects: 100% (77323/77323), 129.42 MiB | 400.00 KiB/s, done.\n",
            "Resolving deltas: 100% (6952/6952), done.\n",
            "Checking out files: 100% (143817/143817), done.\n",
            "Cloning into 'dataset-pokemon'...\n",
            "warning: redirecting to https://gitlab.enseeiht.fr/nurbani/dataset-pokemon.git/\n",
            "remote: Counting objects: 26364, done.\u001b[K\n",
            "remote: Compressing objects: 100% (25090/25090), done.\u001b[K\n",
            "remote: Total 26364 (delta 1274), reused 26364 (delta 1274)\u001b[K\n",
            "Receiving objects: 100% (26364/26364), 26.87 MiB | 2.68 MiB/s, done.\n",
            "Resolving deltas: 100% (1274/1274), done.\n"
          ],
          "name": "stdout"
        }
      ]
    },
    {
      "cell_type": "code",
      "metadata": {
        "id": "zEW4cZba4KH9"
      },
      "source": [
        "path_pokemon = \"/content/dataset-pokemon/\""
      ],
      "execution_count": 3,
      "outputs": []
    },
    {
      "cell_type": "code",
      "metadata": {
        "id": "FgzVLXTw4mRK"
      },
      "source": [
        "#Chemin vers les pokemon qu'on va utiliser\r\n",
        "path_1G_red_blue = path_pokemon + \"1G-red-blue\"\r\n",
        "path_1G_red_green = path_pokemon + \"1G-red-green\"\r\n",
        "path_1G_yellow = path_pokemon + \"1G-yellow\"\r\n",
        "path_2G_crystal = path_pokemon + \"2G-crystal\"\r\n",
        "path_2G_gold = path_pokemon + \"2G-gold\"\r\n",
        "path_2G_silver = path_pokemon + \"2G-silver\"\r\n",
        "path_3G_emerald = path_pokemon + \"3G-emerald\"\r\n",
        "path_3G_firered_leafgreen = path_pokemon + \"3G-firered-leafgreen\"\r\n",
        "path_3G_ruby_sapphire = path_pokemon + \"3G-ruby-sapphire\"\r\n",
        "path_4G_diamond_perl = path_pokemon + \"4G-diamond-pearl\"\r\n",
        "path_4G_heartgold_soulsilver = path_pokemon + \"4G-heartgold-soulsilver\"\r\n",
        "path_4G_platinum = path_pokemon + \"4G-platinum\"\r\n",
        "path_5G_black_white = path_pokemon + \"5G-black-white\""
      ],
      "execution_count": 4,
      "outputs": []
    },
    {
      "cell_type": "code",
      "metadata": {
        "id": "-Vx_w-1Q-dxK",
        "colab": {
          "base_uri": "https://localhost:8080/",
          "height": 350
        },
        "outputId": "1cf1fc9d-37b4-4249-ac2f-20d06efefe2d"
      },
      "source": [
        "from keras.preprocessing.image import load_img\r\n",
        "\r\n",
        "#Test de la taille des images de chaque génération\r\n",
        "image1 = Image.open(path_1G_red_blue + \"/1.png\")\r\n",
        "plt.imshow(image1)\r\n",
        "plt.show()\r\n",
        "taille_pokemon_red_blue = np.shape(image1)\r\n",
        "print(\"taille G1 red blue\", taille_pokemon_red_blue)\r\n",
        "\r\n",
        "image2 = Image.open(path_1G_red_green + \"/1.png\")\r\n",
        "plt.imshow(image2)\r\n",
        "plt.show()\r\n",
        "taille_pokemon_red_green = np.shape(image2)\r\n",
        "print(\"taille pokemon red green\", taille_pokemon_red_green)\r\n",
        "\r\n",
        "image3 = Image.open(path_1G_yellow + \"/1.png\")\r\n",
        "plt.imshow(image3)\r\n",
        "plt.show()\r\n",
        "taille_pokemon_yellow = np.shape(image3)\r\n",
        "print(\"taille pokemon yellow\", taille_pokemon_yellow)\r\n",
        "\r\n",
        "image4 = Image.open(path_2G_crystal + \"/1.png\")\r\n",
        "plt.imshow(image4)\r\n",
        "plt.show()\r\n",
        "taille_pokemon_crystal = np.shape(image4)\r\n",
        "print(\"taille pokemon crystal\", taille_pokemon_crystal)\r\n",
        "\r\n",
        "image5 = Image.open(path_2G_gold + \"/1.png\")\r\n",
        "plt.imshow(image5)\r\n",
        "plt.show()\r\n",
        "taille_pokemon_gold = np.shape(image5)\r\n",
        "print(\"taille pokemon gold\", taille_pokemon_gold)\r\n",
        "\r\n",
        "image6 = Image.open(path_2G_silver + \"/1.png\")\r\n",
        "plt.imshow(image6)\r\n",
        "plt.show()\r\n",
        "taille_pokemon_silver = np.shape(image6)\r\n",
        "print(\"taille pokemon silver\", taille_pokemon_silver)\r\n",
        "\r\n",
        "image7 = Image.open(path_3G_emerald + \"/1.png\")\r\n",
        "plt.imshow(image7)\r\n",
        "plt.show()\r\n",
        "taille_pokemon_emerald = np.shape(image7)\r\n",
        "print(\"taille pokemon emerald\", taille_pokemon_emerald)\r\n",
        "\r\n",
        "image8 = Image.open(path_3G_firered_leafgreen + \"/1.png\")\r\n",
        "plt.imshow(image8)\r\n",
        "plt.show()\r\n",
        "taille_pokemon_firered = np.shape(image8)\r\n",
        "print(\"taille pokemon firered\", taille_pokemon_firered)\r\n",
        "\r\n",
        "image9 = Image.open(path_3G_ruby_sapphire + \"/1.png\")\r\n",
        "plt.imshow(image9)\r\n",
        "plt.show()\r\n",
        "taille_pokemon_sapphire = np.shape(image9)\r\n",
        "print(\"taille pokemon sapphire\", taille_pokemon_sapphire)\r\n",
        "\r\n",
        "image10 = Image.open(path_4G_diamond_perl + \"/1.png\")\r\n",
        "plt.imshow(image10)\r\n",
        "plt.show()\r\n",
        "taille_pokemon_diamond_perl = np.shape(image10)\r\n",
        "print(\"taille pokemon diamond\", taille_pokemon_diamond_perl)\r\n",
        "\r\n",
        "image11 = Image.open(path_4G_heartgold_soulsilver + \"/1.png\")\r\n",
        "plt.imshow(image11)\r\n",
        "plt.show()\r\n",
        "taille_pokemon_heartgold = np.shape(image11)\r\n",
        "print(\"taille pokemon heartgold\", taille_pokemon_heartgold)\r\n",
        "\r\n",
        "image12 = Image.open(path_4G_platinum + \"/1.png\")\r\n",
        "plt.imshow(image12)\r\n",
        "plt.show()\r\n",
        "taille_pokemon_platinum = np.shape(image12)\r\n",
        "print(\"taille pokemon platinum\", taille_pokemon_platinum)\r\n",
        "\r\n",
        "image13 = Image.open(path_5G_black_white + \"/1.png\")\r\n",
        "plt.imshow(image13)\r\n",
        "plt.show()\r\n",
        "taille_pokemon_black_white = np.shape(image13)\r\n",
        "print(\"taille pokemon black white\", taille_pokemon_black_white)\r\n",
        "\r\n"
      ],
      "execution_count": 5,
      "outputs": [
        {
          "output_type": "error",
          "ename": "FileNotFoundError",
          "evalue": "ignored",
          "traceback": [
            "\u001b[0;31m---------------------------------------------------------------------------\u001b[0m",
            "\u001b[0;31mFileNotFoundError\u001b[0m                         Traceback (most recent call last)",
            "\u001b[0;32m<ipython-input-5-28f60a445739>\u001b[0m in \u001b[0;36m<module>\u001b[0;34m()\u001b[0m\n\u001b[1;32m      2\u001b[0m \u001b[0;34m\u001b[0m\u001b[0m\n\u001b[1;32m      3\u001b[0m \u001b[0;31m#Test de la taille des images de chaque génération\u001b[0m\u001b[0;34m\u001b[0m\u001b[0;34m\u001b[0m\u001b[0;34m\u001b[0m\u001b[0m\n\u001b[0;32m----> 4\u001b[0;31m \u001b[0mimage1\u001b[0m \u001b[0;34m=\u001b[0m \u001b[0mImage\u001b[0m\u001b[0;34m.\u001b[0m\u001b[0mopen\u001b[0m\u001b[0;34m(\u001b[0m\u001b[0mpath_1G_red_blue\u001b[0m \u001b[0;34m+\u001b[0m \u001b[0;34m\"/1.png\"\u001b[0m\u001b[0;34m)\u001b[0m\u001b[0;34m\u001b[0m\u001b[0;34m\u001b[0m\u001b[0m\n\u001b[0m\u001b[1;32m      5\u001b[0m \u001b[0mplt\u001b[0m\u001b[0;34m.\u001b[0m\u001b[0mimshow\u001b[0m\u001b[0;34m(\u001b[0m\u001b[0mimage1\u001b[0m\u001b[0;34m)\u001b[0m\u001b[0;34m\u001b[0m\u001b[0;34m\u001b[0m\u001b[0m\n\u001b[1;32m      6\u001b[0m \u001b[0mplt\u001b[0m\u001b[0;34m.\u001b[0m\u001b[0mshow\u001b[0m\u001b[0;34m(\u001b[0m\u001b[0;34m)\u001b[0m\u001b[0;34m\u001b[0m\u001b[0;34m\u001b[0m\u001b[0m\n",
            "\u001b[0;32m/usr/local/lib/python3.6/dist-packages/PIL/Image.py\u001b[0m in \u001b[0;36mopen\u001b[0;34m(fp, mode)\u001b[0m\n\u001b[1;32m   2807\u001b[0m \u001b[0;34m\u001b[0m\u001b[0m\n\u001b[1;32m   2808\u001b[0m     \u001b[0;32mif\u001b[0m \u001b[0mfilename\u001b[0m\u001b[0;34m:\u001b[0m\u001b[0;34m\u001b[0m\u001b[0;34m\u001b[0m\u001b[0m\n\u001b[0;32m-> 2809\u001b[0;31m         \u001b[0mfp\u001b[0m \u001b[0;34m=\u001b[0m \u001b[0mbuiltins\u001b[0m\u001b[0;34m.\u001b[0m\u001b[0mopen\u001b[0m\u001b[0;34m(\u001b[0m\u001b[0mfilename\u001b[0m\u001b[0;34m,\u001b[0m \u001b[0;34m\"rb\"\u001b[0m\u001b[0;34m)\u001b[0m\u001b[0;34m\u001b[0m\u001b[0;34m\u001b[0m\u001b[0m\n\u001b[0m\u001b[1;32m   2810\u001b[0m         \u001b[0mexclusive_fp\u001b[0m \u001b[0;34m=\u001b[0m \u001b[0;32mTrue\u001b[0m\u001b[0;34m\u001b[0m\u001b[0;34m\u001b[0m\u001b[0m\n\u001b[1;32m   2811\u001b[0m \u001b[0;34m\u001b[0m\u001b[0m\n",
            "\u001b[0;31mFileNotFoundError\u001b[0m: [Errno 2] No such file or directory: '/content/dataset-pokemon/1G-red-blue/1.png'"
          ]
        }
      ]
    },
    {
      "cell_type": "markdown",
      "metadata": {
        "id": "BOFkZCZj38f7"
      },
      "source": [
        "Création des ensemble d'apprentissage, test et validation"
      ]
    },
    {
      "cell_type": "code",
      "metadata": {
        "id": "QVxjf0mK21IH"
      },
      "source": [
        "mysize_x=32\r\n",
        "mysize_y=32"
      ],
      "execution_count": 17,
      "outputs": []
    },
    {
      "cell_type": "code",
      "metadata": {
        "colab": {
          "base_uri": "https://localhost:8080/",
          "height": 129
        },
        "id": "rOrwQ4dt38He",
        "outputId": "a0e427ab-0d70-4c45-d0f0-e03c01204bff"
      },
      "source": [
        "# Recuperation des données des 151 premiers pokemons en 13 sets\r\n",
        "\r\n",
        "# labels\r\n",
        "labels = np.eye(151)\r\n",
        "print(\"labels shape\", np.shape(labels))\r\n",
        "\r\n",
        "# G1\r\n",
        "set_1_pokemon = image1.resize((mysize_x, mysize_y))\r\n",
        "set_2_pokemon = image2.resize(mysize_x, mysize_y))\r\n",
        "set_3_pokemon = image3.resize((ysize_x, mysize_y))\r\n",
        "\r\n",
        "# G2\r\n",
        "set_4_pokemon = image4.resize((mysize_x, mysize_y))\r\n",
        "set_5_pokemon = image5.resize((mysize_x, mysize_y))\r\n",
        "set_6_pokemon = image6.resize((mysize_x, mysize_y))\r\n",
        "\r\n",
        "# G3\r\n",
        "set_7_pokemon = image7.resize((mysize_x, mysize_y))\r\n",
        "set_8_pokemon = image8.resize((mysize_x, mysze_y))\r\n",
        "set_9_pokemon = image9.resize((mysize_x, mysize_y))\r\n",
        "\r\n",
        "# G4\r\n",
        "set_10_pokemon = image10.resize((mysize_x, mysize_y))\r\n",
        "set_11_pokemon = image11.resize((mysize_x, mysize_y))\r\n",
        "set_12_pokemon = image12.resize((mysize_x, mysize_y))\r\n",
        "\r\n",
        "# G5\r\n",
        "set_13_pokemon = image13.resize((mysize_x, mysize_y))\r\n",
        "\r\n",
        "\r\n",
        "# Création des sets\r\n",
        "for i in range(2, 152):\r\n",
        "  set_1_pokemon = np.concatenate((set_1_pokemon, Image.open(path_1G_red_blue + \"/\" + str(i) + \".png\").resize((mysize_x, mysize_y))), axis=0)\r\n",
        "  set_2_pokemon = np.concatenate((set_2_pokemon, np.resize(load_img(path_1G_red_green + \"/\" + str(i) + \".png\"), mysize)), axis=0)\r\n",
        "  set_3_pokemon = np.concatenate((set_3_pokemon, np.resize(load_img(path_1G_yellow + \"/\" + str(i) + \".png\"), mysize)), axis=0)\r\n",
        "  set_4_pokemon = np.concatenate((set_4_pokemon, np.resize(load_img(path_2G_crystal + \"/\" + str(i) + \".png\"), mysize)), axis=0)\r\n",
        "  set_5_pokemon = np.concatenate((set_5_pokemon, np.resize(load_img(path_2G_gold + \"/\" + str(i) + \".png\"), mysize)), axis=0)\r\n",
        "  set_6_pokemon = np.concatenate((set_6_pokemon, np.resize(load_img(path_2G_silver + \"/\" + str(i) + \".png\"), mysize)), axis=0)\r\n",
        "  set_7_pokemon = np.concatenate((set_7_pokemon, np.resize(load_img(path_3G_emerald + \"/\" + str(i) + \".png\"), mysize)), axis=0)\r\n",
        "  set_8_pokemon = np.concatenate((set_8_pokemon, np.resize(load_img(path_3G_firered_leafgreen + \"/\" + str(i) + \".png\"), mysize)), axis=0)\r\n",
        "  set_9_pokemon = np.concatenate((set_9_pokemon, np.resize(load_img(path_3G_ruby_sapphire + \"/\" + str(i) + \".png\"), mysize)), axis=0)\r\n",
        "  set_10_pokemon = np.concatenate((set_10_pokemon, np.resize(load_img(path_4G_diamond_perl + \"/\" + str(i) + \".png\"), mysize)), axis=0)\r\n",
        "  set_11_pokemon = np.concatenate((set_11_pokemon, np.resize(load_img(path_4G_heartgold_soulsilver + \"/\" + str(i) + \".png\"), mysize)), axis=0)\r\n",
        "  set_12_pokemon = np.concatenate((set_12_pokemon, np.resize(load_img(path_4G_platinum + \"/\" + str(i) + \".png\"), mysize)), axis=0)\r\n",
        "  set_13_pokemon = np.concatenate((set_13_pokemon, np.resize(load_img(path_5G_black_white + \"/\" + str(i) + \".png\"), mysize)), axis=0)\r\n",
        "\r\n",
        "print(\"Traitement des données terminé\")\r\n"
      ],
      "execution_count": 1,
      "outputs": [
        {
          "output_type": "error",
          "ename": "SyntaxError",
          "evalue": "ignored",
          "traceback": [
            "\u001b[0;36m  File \u001b[0;32m\"<ipython-input-1-64a91d179253>\"\u001b[0;36m, line \u001b[0;32m9\u001b[0m\n\u001b[0;31m    set_2_pokemon = image2.resize(mysize_x, mysize_y))\u001b[0m\n\u001b[0m                                                     ^\u001b[0m\n\u001b[0;31mSyntaxError\u001b[0m\u001b[0;31m:\u001b[0m invalid syntax\n"
          ]
        }
      ]
    },
    {
      "cell_type": "code",
      "metadata": {
        "colab": {
          "base_uri": "https://localhost:8080/"
        },
        "id": "mune0ulUJGq6",
        "outputId": "a286bb78-7977-403d-8c94-4a35997fe939"
      },
      "source": [
        "print(\"set size\", np.shape(set_1_pokemon))"
      ],
      "execution_count": 93,
      "outputs": [
        {
          "output_type": "stream",
          "text": [
            "set size (151, 32, 32, 3)\n"
          ],
          "name": "stdout"
        }
      ]
    },
    {
      "cell_type": "markdown",
      "metadata": {
        "id": "ADOgPTywb2yY"
      },
      "source": [
        "Ensemble d'entraînement, test et validation"
      ]
    },
    {
      "cell_type": "code",
      "metadata": {
        "id": "1sMG5ayDb7XO"
      },
      "source": [
        "# Training set : 1 à 11\r\n",
        "# Test set : 12\r\n",
        "# Validation set : 13\r\n",
        "\r\n",
        "Train_data = np.concatenate((set_1_pokemon, set_2_pokemon, set_3_pokemon, set_4_pokemon, set_5_pokemon, set_6_pokemon, set_7_pokemon, set_8_pokemon,\r\n",
        "                             set_9_pokemon, set_10_pokemon, set_11_pokemon), axis=0)\r\n",
        "Train_labels = np.concatenate((labels, labels, labels, labels, labels, labels, labels, labels, labels, labels, labels), axis=0)\r\n",
        "Test_data = set_12_pokemon\r\n",
        "Test_labels = labels\r\n",
        "\r\n",
        "Validation_data = set_13_pokemon\r\n",
        "Validation_labes = labels"
      ],
      "execution_count": 94,
      "outputs": []
    },
    {
      "cell_type": "code",
      "metadata": {
        "colab": {
          "base_uri": "https://localhost:8080/"
        },
        "id": "WnPYK_RRI66X",
        "outputId": "c839e481-8d78-44a6-d7a6-524214bf1a1f"
      },
      "source": [
        "print(\"Train data size\", np.shape(Train_data))\r\n",
        "print(\"Train_labels size\", np.shape(Train_labels))"
      ],
      "execution_count": 95,
      "outputs": [
        {
          "output_type": "stream",
          "text": [
            "Train data size (1661, 32, 32, 3)\n",
            "Train_labels size (1661, 151)\n"
          ],
          "name": "stdout"
        }
      ]
    },
    {
      "cell_type": "markdown",
      "metadata": {
        "id": "mkli95HJXwRI"
      },
      "source": [
        "Exemple :"
      ]
    },
    {
      "cell_type": "code",
      "metadata": {
        "colab": {
          "base_uri": "https://localhost:8080/",
          "height": 385
        },
        "id": "bN2bLhK7XxpF",
        "outputId": "8b9d3675-fbbe-4b9f-bc16-5de54cd8e06c"
      },
      "source": [
        "pokemon_random = np.random.randint(0, 1661)\r\n",
        "pokemon = Train_data[pokemon_random, :, :, :]\r\n",
        "pokemon_label = Train_labels[pokemon_random, :]\r\n",
        "\r\n",
        "plt.imshow(pokemon)\r\n",
        "plt.show\r\n",
        "print(pokemon_label)"
      ],
      "execution_count": 104,
      "outputs": [
        {
          "output_type": "stream",
          "text": [
            "[0. 0. 0. 0. 0. 0. 0. 0. 0. 0. 0. 0. 0. 0. 0. 0. 0. 0. 0. 0. 0. 0. 0. 0.\n",
            " 0. 0. 0. 0. 0. 0. 0. 0. 0. 0. 0. 0. 0. 0. 0. 0. 0. 0. 0. 0. 0. 0. 0. 0.\n",
            " 0. 0. 0. 0. 0. 0. 0. 0. 0. 0. 0. 0. 0. 0. 0. 0. 0. 0. 0. 0. 0. 0. 0. 0.\n",
            " 0. 1. 0. 0. 0. 0. 0. 0. 0. 0. 0. 0. 0. 0. 0. 0. 0. 0. 0. 0. 0. 0. 0. 0.\n",
            " 0. 0. 0. 0. 0. 0. 0. 0. 0. 0. 0. 0. 0. 0. 0. 0. 0. 0. 0. 0. 0. 0. 0. 0.\n",
            " 0. 0. 0. 0. 0. 0. 0. 0. 0. 0. 0. 0. 0. 0. 0. 0. 0. 0. 0. 0. 0. 0. 0. 0.\n",
            " 0. 0. 0. 0. 0. 0. 0.]\n"
          ],
          "name": "stdout"
        },
        {
          "output_type": "display_data",
          "data": {
            "image/png": "[encoded data removed]",
            "text/plain": [
              "<Figure size 432x288 with 1 Axes>"
            ]
          },
          "metadata": {
            "tags": [],
            "needs_background": "light"
          }
        }
      ]
    },
    {
      "cell_type": "markdown",
      "metadata": {
        "id": "oJoge4-A3lZj"
      },
      "source": [
        "Import VGG"
      ]
    },
    {
      "cell_type": "code",
      "metadata": {
        "id": "fRMQ9Je_3j8A"
      },
      "source": [
        "#VGG pré entraîné sur imagenet\r\n",
        "model_vgg16_conv = VGG16(weights='imagenet', include_top=False)\r\n",
        "model_vgg16_conv.summary()\r\n",
        "\r\n",
        "#Mon input c'est du 40 40 3\r\n",
        "input = Input(shape=(40, 40, 3),name = 'image_input')\r\n",
        "\r\n",
        "output_vgg16_conv = model_vgg16_conv(input)\r\n",
        "\r\n",
        "#On rajoute quelques layers\r\n",
        "x = Flatten(name='flatten')(output_vgg16_conv)\r\n",
        "x = Dense(4096, activation='relu', name='fc1')(x)\r\n",
        "x = Dense(4096, activation='relu', name='fc2')(x)\r\n",
        "x = Dense(1, activation='softmax', name='predictions')(x)\r\n",
        "\r\n",
        "#Mon modele à moi\r\n",
        "my_model = Model(inputs=input, outputs=x)\r\n",
        "\r\n",
        "my_model.summary()"
      ],
      "execution_count": null,
      "outputs": []
    },
    {
      "cell_type": "markdown",
      "metadata": {
        "id": "21p8a0i66ARv"
      },
      "source": [
        "C'est parti pour l'entraînnement !"
      ]
    },
    {
      "cell_type": "code",
      "metadata": {
        "id": "eFm-A4AE5_6q"
      },
      "source": [
        "my_model.compile(loss='binary_crossentropy',\r\n",
        "              optimizer=optimizers.Adam(lr=3e-4),\r\n",
        "              metrics=['acc'])"
      ],
      "execution_count": 80,
      "outputs": []
    },
    {
      "cell_type": "code",
      "metadata": {
        "colab": {
          "base_uri": "https://localhost:8080/"
        },
        "id": "Zt9-GiXjObGa",
        "outputId": "7260c3ab-985c-49f7-e4c3-e5d18b8070aa"
      },
      "source": [
        "print(\"Train_data shape\", np.shape(Train_data))\r\n",
        "print(\"Train labels shape\", np.shape(Train_labels))"
      ],
      "execution_count": 81,
      "outputs": [
        {
          "output_type": "stream",
          "text": [
            "Train_data shape (1661, 40, 40, 3)\n",
            "Train labels shape (1661,)\n"
          ],
          "name": "stdout"
        }
      ]
    },
    {
      "cell_type": "code",
      "metadata": {
        "id": "u2JOOta3IbDX"
      },
      "source": [
        "my_model.fit(Train_data, Train_labels, batch_size=64, epochs=50, steps_per_epoch=2)"
      ],
      "execution_count": null,
      "outputs": []
    }
  ]
}